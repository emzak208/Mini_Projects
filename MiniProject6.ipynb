{
 "cells": [
  {
   "cell_type": "markdown",
   "metadata": {},
   "source": [
    "## Mini project 6 - History Kaggle Demo: Airbnb New User Bookings"
   ]
  },
  {
   "cell_type": "markdown",
   "metadata": {},
   "source": [
    "What we need you to learn from this mini project are:"
   ]
  },
  {
   "cell_type": "markdown",
   "metadata": {},
   "source": [
    "1. Get familiar with the overall procedures of doing a Kaggle Competition (Basic knowledge on data exploration, data preprocessing, modelling and model tuning).\n",
    "2. Cultivate the sense of data analysis and feature extraction. You should learn to have your own ideas on how to process the data, what kind of features you can extract from the given information, how to dig more possible insights and give solutions from the data ... \n",
    "3. Know how to search for useful information and help from related website. You can receive a lot of beautiful insights from the Discussion of the competition.\n",
    "4. ..."
   ]
  },
  {
   "cell_type": "markdown",
   "metadata": {},
   "source": [
    "** This Week's Topic：Airbnb New User Bookings **"
   ]
  },
  {
   "cell_type": "markdown",
   "metadata": {},
   "source": [
    "You can get the detailed information and download the data from the following link:<br/>\n",
    "https://www.kaggle.com/c/airbnb-recruiting-new-user-bookings/data\n",
    "\n",
    "Note: You need to sign up a Kaggle Account before you can download the data."
   ]
  },
  {
   "cell_type": "markdown",
   "metadata": {
    "collapsed": true
   },
   "source": [
    "** Requirements:**<br/>\n",
    "\n",
    "1. You need to do basic feature engineering, data preprocessing, modelling and model tuning work in this homework.\n",
    "\n",
    "2. Please **focus more on feature extractions** in this homework, if your time is limited, you don't need to realize all your thoughts, but you need to spend sometime to think about this and give us several thoughts among those you don't realize.\n",
    "\n",
    "3. This is just a homework, **you don't need to persue the perfect work if your time is limited**, since it will cost you a lot of time to improve it to a relatively good model. Again, this homework is just to nurture your basic sense of doing Kaggle. The real battle will come soon, that's the Kaggle competition you need to spend a lot of time and energies on."
   ]
  },
  {
   "cell_type": "code",
   "execution_count": 1,
   "metadata": {},
   "outputs": [
    {
     "name": "stderr",
     "output_type": "stream",
     "text": [
      "/Users/meierhabarexiti/anaconda/lib/python3.6/site-packages/sklearn/cross_validation.py:44: DeprecationWarning: This module was deprecated in version 0.18 in favor of the model_selection module into which all the refactored classes and functions are moved. Also note that the interface of the new CV iterators are different from that of this module. This module will be removed in 0.20.\n",
      "  \"This module will be removed in 0.20.\", DeprecationWarning)\n"
     ]
    }
   ],
   "source": [
    "## Type your answers here ##\n",
    "import numpy as np\n",
    "import pandas as pd\n",
    "import matplotlib.pyplot as plt\n",
    "import seaborn as sns\n",
    "import datetime as dt\n",
    "from sklearn import metrics, preprocessing, cross_validation\n",
    "from sklearn.model_selection import KFold,GridSearchCV\n",
    "from xgboost.sklearn import XGBClassifier\n",
    "\n",
    "%matplotlib inline\n"
   ]
  },
  {
   "cell_type": "code",
   "execution_count": 2,
   "metadata": {
    "collapsed": true
   },
   "outputs": [],
   "source": [
    "train_users = pd.read_csv('train_users_2.csv')\n",
    "test_users = pd.read_csv('test_users.csv')\n",
    "sessions = pd.read_csv('sessions.csv')\n",
    "\n",
    "labels = train_users['country_destination'].values\n",
    "id_test = test_users['id']\n",
    "\n",
    "\n",
    "train_size = train_users.shape[0]\n",
    "test_size = test_users.shape[0]"
   ]
  },
  {
   "cell_type": "code",
   "execution_count": 3,
   "metadata": {
    "scrolled": true
   },
   "outputs": [
    {
     "data": {
      "text/html": [
       "<div>\n",
       "<style>\n",
       "    .dataframe thead tr:only-child th {\n",
       "        text-align: right;\n",
       "    }\n",
       "\n",
       "    .dataframe thead th {\n",
       "        text-align: left;\n",
       "    }\n",
       "\n",
       "    .dataframe tbody tr th {\n",
       "        vertical-align: top;\n",
       "    }\n",
       "</style>\n",
       "<table border=\"1\" class=\"dataframe\">\n",
       "  <thead>\n",
       "    <tr style=\"text-align: right;\">\n",
       "      <th></th>\n",
       "      <th>id</th>\n",
       "      <th>date_account_created</th>\n",
       "      <th>timestamp_first_active</th>\n",
       "      <th>date_first_booking</th>\n",
       "      <th>gender</th>\n",
       "      <th>age</th>\n",
       "      <th>signup_method</th>\n",
       "      <th>signup_flow</th>\n",
       "      <th>language</th>\n",
       "      <th>affiliate_channel</th>\n",
       "      <th>affiliate_provider</th>\n",
       "      <th>first_affiliate_tracked</th>\n",
       "      <th>signup_app</th>\n",
       "      <th>first_device_type</th>\n",
       "      <th>first_browser</th>\n",
       "      <th>country_destination</th>\n",
       "    </tr>\n",
       "  </thead>\n",
       "  <tbody>\n",
       "    <tr>\n",
       "      <th>0</th>\n",
       "      <td>gxn3p5htnn</td>\n",
       "      <td>2010-06-28</td>\n",
       "      <td>20090319043255</td>\n",
       "      <td>NaN</td>\n",
       "      <td>-unknown-</td>\n",
       "      <td>NaN</td>\n",
       "      <td>facebook</td>\n",
       "      <td>0</td>\n",
       "      <td>en</td>\n",
       "      <td>direct</td>\n",
       "      <td>direct</td>\n",
       "      <td>untracked</td>\n",
       "      <td>Web</td>\n",
       "      <td>Mac Desktop</td>\n",
       "      <td>Chrome</td>\n",
       "      <td>NDF</td>\n",
       "    </tr>\n",
       "    <tr>\n",
       "      <th>1</th>\n",
       "      <td>820tgsjxq7</td>\n",
       "      <td>2011-05-25</td>\n",
       "      <td>20090523174809</td>\n",
       "      <td>NaN</td>\n",
       "      <td>MALE</td>\n",
       "      <td>38.0</td>\n",
       "      <td>facebook</td>\n",
       "      <td>0</td>\n",
       "      <td>en</td>\n",
       "      <td>seo</td>\n",
       "      <td>google</td>\n",
       "      <td>untracked</td>\n",
       "      <td>Web</td>\n",
       "      <td>Mac Desktop</td>\n",
       "      <td>Chrome</td>\n",
       "      <td>NDF</td>\n",
       "    </tr>\n",
       "    <tr>\n",
       "      <th>2</th>\n",
       "      <td>4ft3gnwmtx</td>\n",
       "      <td>2010-09-28</td>\n",
       "      <td>20090609231247</td>\n",
       "      <td>2010-08-02</td>\n",
       "      <td>FEMALE</td>\n",
       "      <td>56.0</td>\n",
       "      <td>basic</td>\n",
       "      <td>3</td>\n",
       "      <td>en</td>\n",
       "      <td>direct</td>\n",
       "      <td>direct</td>\n",
       "      <td>untracked</td>\n",
       "      <td>Web</td>\n",
       "      <td>Windows Desktop</td>\n",
       "      <td>IE</td>\n",
       "      <td>US</td>\n",
       "    </tr>\n",
       "    <tr>\n",
       "      <th>3</th>\n",
       "      <td>bjjt8pjhuk</td>\n",
       "      <td>2011-12-05</td>\n",
       "      <td>20091031060129</td>\n",
       "      <td>2012-09-08</td>\n",
       "      <td>FEMALE</td>\n",
       "      <td>42.0</td>\n",
       "      <td>facebook</td>\n",
       "      <td>0</td>\n",
       "      <td>en</td>\n",
       "      <td>direct</td>\n",
       "      <td>direct</td>\n",
       "      <td>untracked</td>\n",
       "      <td>Web</td>\n",
       "      <td>Mac Desktop</td>\n",
       "      <td>Firefox</td>\n",
       "      <td>other</td>\n",
       "    </tr>\n",
       "    <tr>\n",
       "      <th>4</th>\n",
       "      <td>87mebub9p4</td>\n",
       "      <td>2010-09-14</td>\n",
       "      <td>20091208061105</td>\n",
       "      <td>2010-02-18</td>\n",
       "      <td>-unknown-</td>\n",
       "      <td>41.0</td>\n",
       "      <td>basic</td>\n",
       "      <td>0</td>\n",
       "      <td>en</td>\n",
       "      <td>direct</td>\n",
       "      <td>direct</td>\n",
       "      <td>untracked</td>\n",
       "      <td>Web</td>\n",
       "      <td>Mac Desktop</td>\n",
       "      <td>Chrome</td>\n",
       "      <td>US</td>\n",
       "    </tr>\n",
       "  </tbody>\n",
       "</table>\n",
       "</div>"
      ],
      "text/plain": [
       "           id date_account_created  timestamp_first_active date_first_booking  \\\n",
       "0  gxn3p5htnn           2010-06-28          20090319043255                NaN   \n",
       "1  820tgsjxq7           2011-05-25          20090523174809                NaN   \n",
       "2  4ft3gnwmtx           2010-09-28          20090609231247         2010-08-02   \n",
       "3  bjjt8pjhuk           2011-12-05          20091031060129         2012-09-08   \n",
       "4  87mebub9p4           2010-09-14          20091208061105         2010-02-18   \n",
       "\n",
       "      gender   age signup_method  signup_flow language affiliate_channel  \\\n",
       "0  -unknown-   NaN      facebook            0       en            direct   \n",
       "1       MALE  38.0      facebook            0       en               seo   \n",
       "2     FEMALE  56.0         basic            3       en            direct   \n",
       "3     FEMALE  42.0      facebook            0       en            direct   \n",
       "4  -unknown-  41.0         basic            0       en            direct   \n",
       "\n",
       "  affiliate_provider first_affiliate_tracked signup_app first_device_type  \\\n",
       "0             direct               untracked        Web       Mac Desktop   \n",
       "1             google               untracked        Web       Mac Desktop   \n",
       "2             direct               untracked        Web   Windows Desktop   \n",
       "3             direct               untracked        Web       Mac Desktop   \n",
       "4             direct               untracked        Web       Mac Desktop   \n",
       "\n",
       "  first_browser country_destination  \n",
       "0        Chrome                 NDF  \n",
       "1        Chrome                 NDF  \n",
       "2            IE                  US  \n",
       "3       Firefox               other  \n",
       "4        Chrome                  US  "
      ]
     },
     "execution_count": 3,
     "metadata": {},
     "output_type": "execute_result"
    }
   ],
   "source": [
    "train_users.head()"
   ]
  },
  {
   "cell_type": "code",
   "execution_count": 4,
   "metadata": {},
   "outputs": [
    {
     "data": {
      "text/plain": [
       "(213451, 16)"
      ]
     },
     "execution_count": 4,
     "metadata": {},
     "output_type": "execute_result"
    }
   ],
   "source": [
    "train_users.shape"
   ]
  },
  {
   "cell_type": "code",
   "execution_count": 5,
   "metadata": {},
   "outputs": [
    {
     "data": {
      "text/plain": [
       "<bound method DataFrame.info of                 id date_account_created  timestamp_first_active  \\\n",
       "0       gxn3p5htnn           2010-06-28          20090319043255   \n",
       "1       820tgsjxq7           2011-05-25          20090523174809   \n",
       "2       4ft3gnwmtx           2010-09-28          20090609231247   \n",
       "3       bjjt8pjhuk           2011-12-05          20091031060129   \n",
       "4       87mebub9p4           2010-09-14          20091208061105   \n",
       "5       osr2jwljor           2010-01-01          20100101215619   \n",
       "6       lsw9q7uk0j           2010-01-02          20100102012558   \n",
       "7       0d01nltbrs           2010-01-03          20100103191905   \n",
       "8       a1vcnhxeij           2010-01-04          20100104004211   \n",
       "9       6uh8zyj2gn           2010-01-04          20100104023758   \n",
       "10      yuuqmid2rp           2010-01-04          20100104194251   \n",
       "11      om1ss59ys8           2010-01-05          20100105051812   \n",
       "12      k6np330cm1           2010-01-05          20100105060859   \n",
       "13      dy3rgx56cu           2010-01-05          20100105083259   \n",
       "14      ju3h98ch3w           2010-01-07          20100107055820   \n",
       "15      v4d5rl22px           2010-01-07          20100107204555   \n",
       "16      2dwbwkx056           2010-01-07          20100107215125   \n",
       "17      frhre329au           2010-01-07          20100107224625   \n",
       "18      cxlg85pg1r           2010-01-08          20100108015641   \n",
       "19      gdka1q5ktd           2010-01-10          20100110010817   \n",
       "20      qdubonn3uk           2010-01-10          20100110152120   \n",
       "21      qsibmuz9sx           2010-01-10          20100110220941   \n",
       "22      80f7dwscrn           2010-01-11          20100111031438   \n",
       "23      jha93x042q           2010-01-11          20100111224015   \n",
       "24      7i49vnuav6           2010-01-11          20100111230808   \n",
       "25      al8bcetz0g           2010-01-12          20100112131444   \n",
       "26      bjg0m5otl3           2010-01-12          20100112155420   \n",
       "27      hfrl5gle36           2010-01-12          20100112205949   \n",
       "28      tp6x3md0n4           2010-01-13          20100113044650   \n",
       "29      hql77nu2lk           2010-01-13          20100113064333   \n",
       "...            ...                  ...                     ...   \n",
       "213421  c98s3h7kgj           2014-06-30          20140630231137   \n",
       "213422  ytmpiwb8hj           2014-06-30          20140630231246   \n",
       "213423  3dx1jk6yk2           2014-06-30          20140630231548   \n",
       "213424  hcfj07iowv           2014-06-30          20140630231859   \n",
       "213425  l1f71f9vsj           2014-06-30          20140630232119   \n",
       "213426  15bj4ahmhf           2014-06-30          20140630232331   \n",
       "213427  qwpybxfjdl           2014-06-30          20140630232539   \n",
       "213428  k4t61wuvyq           2014-06-30          20140630232634   \n",
       "213429  mhh7b52z44           2014-06-30          20140630232712   \n",
       "213430  79wk7k2k5t           2014-06-30          20140630233132   \n",
       "213431  ftwmocvwlq           2014-06-30          20140630233203   \n",
       "213432  rg7ayg1tob           2014-06-30          20140630233224   \n",
       "213433  2f24umzkuv           2014-06-30          20140630233427   \n",
       "213434  or77n2ojuj           2014-06-30          20140630233640   \n",
       "213435  0a5bnb9bs4           2014-06-30          20140630233851   \n",
       "213436  6fzrn49sfn           2014-06-30          20140630234113   \n",
       "213437  r0jq0devgy           2014-06-30          20140630234243   \n",
       "213438  v5lq9bj8gv           2014-06-30          20140630234429   \n",
       "213439  msucfwmlzc           2014-06-30          20140630234729   \n",
       "213440  04y8115avm           2014-06-30          20140630234933   \n",
       "213441  omlc9iku7t           2014-06-30          20140630235151   \n",
       "213442  rf0ay567js           2014-06-30          20140630235309   \n",
       "213443  0k26r3mir0           2014-06-30          20140630235340   \n",
       "213444  40o1ivh6cb           2014-06-30          20140630235352   \n",
       "213445  qbxza0xojf           2014-06-30          20140630235547   \n",
       "213446  zxodksqpep           2014-06-30          20140630235636   \n",
       "213447  mhewnxesx9           2014-06-30          20140630235719   \n",
       "213448  6o3arsjbb4           2014-06-30          20140630235754   \n",
       "213449  jh95kwisub           2014-06-30          20140630235822   \n",
       "213450  nw9fwlyb5f           2014-06-30          20140630235824   \n",
       "\n",
       "       date_first_booking     gender   age signup_method  signup_flow  \\\n",
       "0                     NaN  -unknown-   NaN      facebook            0   \n",
       "1                     NaN       MALE  38.0      facebook            0   \n",
       "2              2010-08-02     FEMALE  56.0         basic            3   \n",
       "3              2012-09-08     FEMALE  42.0      facebook            0   \n",
       "4              2010-02-18  -unknown-  41.0         basic            0   \n",
       "5              2010-01-02  -unknown-   NaN         basic            0   \n",
       "6              2010-01-05     FEMALE  46.0         basic            0   \n",
       "7              2010-01-13     FEMALE  47.0         basic            0   \n",
       "8              2010-07-29     FEMALE  50.0         basic            0   \n",
       "9              2010-01-04  -unknown-  46.0         basic            0   \n",
       "10             2010-01-06     FEMALE  36.0         basic            0   \n",
       "11                    NaN     FEMALE  47.0         basic            0   \n",
       "12             2010-01-18  -unknown-   NaN         basic            0   \n",
       "13                    NaN     FEMALE  37.0         basic            0   \n",
       "14                    NaN     FEMALE  36.0         basic            0   \n",
       "15             2010-01-08     FEMALE  33.0         basic            0   \n",
       "16                    NaN  -unknown-   NaN         basic            0   \n",
       "17             2010-01-09  -unknown-  31.0         basic            0   \n",
       "18                    NaN  -unknown-   NaN         basic            0   \n",
       "19             2010-01-10     FEMALE  29.0         basic            0   \n",
       "20             2010-01-18  -unknown-   NaN         basic            0   \n",
       "21             2010-01-11       MALE  30.0         basic            0   \n",
       "22             2010-01-11  -unknown-  40.0         basic            0   \n",
       "23                    NaN  -unknown-   NaN         basic            0   \n",
       "24                    NaN     FEMALE  40.0         basic            0   \n",
       "25             2010-01-15     FEMALE  26.0         basic            0   \n",
       "26                    NaN  -unknown-   NaN         basic            0   \n",
       "27             2010-01-22     FEMALE  32.0         basic            0   \n",
       "28             2010-01-13  -unknown-  35.0         basic            0   \n",
       "29             2010-01-19  -unknown-  37.0         basic            0   \n",
       "...                   ...        ...   ...           ...          ...   \n",
       "213421                NaN  -unknown-   NaN         basic            0   \n",
       "213422                NaN  -unknown-   NaN         basic            0   \n",
       "213423                NaN     FEMALE  20.0      facebook           25   \n",
       "213424                NaN     FEMALE  32.0      facebook            0   \n",
       "213425                NaN     FEMALE  30.0      facebook            0   \n",
       "213426                NaN  -unknown-   NaN         basic            0   \n",
       "213427                NaN  -unknown-   NaN         basic            0   \n",
       "213428                NaN  -unknown-   NaN         basic           23   \n",
       "213429                NaN  -unknown-   NaN         basic           25   \n",
       "213430                NaN  -unknown-  19.0         basic            0   \n",
       "213431                NaN  -unknown-   NaN         basic            0   \n",
       "213432                NaN       MALE  31.0      facebook            0   \n",
       "213433                NaN  -unknown-   NaN         basic            0   \n",
       "213434                NaN  -unknown-   NaN         basic            0   \n",
       "213435                NaN  -unknown-   NaN         basic            0   \n",
       "213436                NaN  -unknown-   NaN         basic           25   \n",
       "213437                NaN  -unknown-   NaN         basic           23   \n",
       "213438                NaN  -unknown-   NaN         basic           25   \n",
       "213439         2015-03-16       MALE  43.0         basic            0   \n",
       "213440                NaN     FEMALE  24.0         basic           25   \n",
       "213441         2014-08-13     FEMALE  34.0         basic            0   \n",
       "213442                NaN  -unknown-   NaN         basic            0   \n",
       "213443         2014-07-13     FEMALE  36.0         basic            0   \n",
       "213444                NaN  -unknown-   NaN         basic            0   \n",
       "213445         2014-07-02     FEMALE  23.0         basic            0   \n",
       "213446                NaN       MALE  32.0         basic            0   \n",
       "213447                NaN  -unknown-   NaN         basic            0   \n",
       "213448                NaN  -unknown-  32.0         basic            0   \n",
       "213449                NaN  -unknown-   NaN         basic           25   \n",
       "213450                NaN  -unknown-   NaN         basic           25   \n",
       "\n",
       "       language affiliate_channel affiliate_provider first_affiliate_tracked  \\\n",
       "0            en            direct             direct               untracked   \n",
       "1            en               seo             google               untracked   \n",
       "2            en            direct             direct               untracked   \n",
       "3            en            direct             direct               untracked   \n",
       "4            en            direct             direct               untracked   \n",
       "5            en             other              other                     omg   \n",
       "6            en             other         craigslist               untracked   \n",
       "7            en            direct             direct                     omg   \n",
       "8            en             other         craigslist               untracked   \n",
       "9            en             other         craigslist                     omg   \n",
       "10           en             other         craigslist               untracked   \n",
       "11           en             other         craigslist               untracked   \n",
       "12           en            direct             direct                     NaN   \n",
       "13           en             other         craigslist                  linked   \n",
       "14           en             other         craigslist               untracked   \n",
       "15           en            direct             direct               untracked   \n",
       "16           en             other         craigslist                     NaN   \n",
       "17           en             other         craigslist                     NaN   \n",
       "18           en               seo           facebook                     NaN   \n",
       "19           en            direct             direct               untracked   \n",
       "20           en            direct             direct                     NaN   \n",
       "21           en            direct             direct                  linked   \n",
       "22           en               seo             google               untracked   \n",
       "23           en             other         craigslist               untracked   \n",
       "24           en               seo             google               untracked   \n",
       "25           en             other         craigslist               untracked   \n",
       "26           en             other              other               untracked   \n",
       "27           en             other         craigslist               untracked   \n",
       "28           en            direct             direct                     NaN   \n",
       "29           en            direct             direct               untracked   \n",
       "...         ...               ...                ...                     ...   \n",
       "213421       en            direct             direct                  linked   \n",
       "213422       en            direct             direct               untracked   \n",
       "213423       en            direct             direct               untracked   \n",
       "213424       en            direct             direct                  linked   \n",
       "213425       en            direct             direct                  linked   \n",
       "213426       en            direct             direct               untracked   \n",
       "213427       en            direct             direct                  linked   \n",
       "213428       en            direct             direct               untracked   \n",
       "213429       en            direct             direct               untracked   \n",
       "213430       en            direct             direct                  linked   \n",
       "213431       en            direct             direct               untracked   \n",
       "213432       en            direct             direct           tracked-other   \n",
       "213433       en         sem-brand             google               untracked   \n",
       "213434       en               seo           facebook                 product   \n",
       "213435       en               seo             google               untracked   \n",
       "213436       en            direct             direct               untracked   \n",
       "213437       en            direct             direct               untracked   \n",
       "213438       en            direct             direct               untracked   \n",
       "213439       en            direct             direct               untracked   \n",
       "213440       en            direct             direct               untracked   \n",
       "213441       en            direct             direct                  linked   \n",
       "213442       en         sem-brand             google                     omg   \n",
       "213443       en         sem-brand             google                  linked   \n",
       "213444       en            direct             direct                  linked   \n",
       "213445       en         sem-brand             google                     omg   \n",
       "213446       en         sem-brand             google                     omg   \n",
       "213447       en            direct             direct                  linked   \n",
       "213448       en            direct             direct               untracked   \n",
       "213449       en             other              other           tracked-other   \n",
       "213450       en            direct             direct               untracked   \n",
       "\n",
       "       signup_app first_device_type  first_browser country_destination  \n",
       "0             Web       Mac Desktop         Chrome                 NDF  \n",
       "1             Web       Mac Desktop         Chrome                 NDF  \n",
       "2             Web   Windows Desktop             IE                  US  \n",
       "3             Web       Mac Desktop        Firefox               other  \n",
       "4             Web       Mac Desktop         Chrome                  US  \n",
       "5             Web       Mac Desktop         Chrome                  US  \n",
       "6             Web       Mac Desktop         Safari                  US  \n",
       "7             Web       Mac Desktop         Safari                  US  \n",
       "8             Web       Mac Desktop         Safari                  US  \n",
       "9             Web       Mac Desktop        Firefox                  US  \n",
       "10            Web       Mac Desktop        Firefox                  US  \n",
       "11            Web            iPhone      -unknown-                 NDF  \n",
       "12            Web     Other/Unknown      -unknown-                  FR  \n",
       "13            Web       Mac Desktop        Firefox                 NDF  \n",
       "14            Web            iPhone  Mobile Safari                 NDF  \n",
       "15            Web   Windows Desktop         Chrome                  CA  \n",
       "16            Web     Other/Unknown      -unknown-                 NDF  \n",
       "17            Web     Other/Unknown      -unknown-                  US  \n",
       "18            Web     Other/Unknown      -unknown-                 NDF  \n",
       "19            Web       Mac Desktop         Chrome                  FR  \n",
       "20            Web     Other/Unknown      -unknown-                  US  \n",
       "21            Web       Mac Desktop         Chrome                  US  \n",
       "22            Web            iPhone      -unknown-                  US  \n",
       "23            Web       Mac Desktop         Safari                 NDF  \n",
       "24            Web       Mac Desktop        Firefox                 NDF  \n",
       "25            Web       Mac Desktop         Chrome                  FR  \n",
       "26            Web     Other/Unknown      -unknown-                 NDF  \n",
       "27            Web   Desktop (Other)         Chrome                  US  \n",
       "28            Web     Other/Unknown      -unknown-                  FR  \n",
       "29            Web    Android Tablet      -unknown-                  US  \n",
       "...           ...               ...            ...                 ...  \n",
       "213421        Web       Mac Desktop        Firefox                 NDF  \n",
       "213422        Web   Windows Desktop             IE                 NDF  \n",
       "213423        iOS            iPhone      -unknown-                 NDF  \n",
       "213424        Web   Windows Desktop         Chrome                 NDF  \n",
       "213425        Web   Windows Desktop         Chrome                 NDF  \n",
       "213426      Moweb     Android Phone  Chrome Mobile                 NDF  \n",
       "213427        Web   Desktop (Other)         Chrome                 NDF  \n",
       "213428    Android     Android Phone      -unknown-                 NDF  \n",
       "213429        iOS            iPhone      -unknown-                 NDF  \n",
       "213430        Web       Mac Desktop         Chrome                 NDF  \n",
       "213431        Web   Windows Desktop        Firefox                 NDF  \n",
       "213432        Web       Mac Desktop         Safari                 NDF  \n",
       "213433        Web              iPad  Mobile Safari                 NDF  \n",
       "213434        Web       Mac Desktop         Chrome                 NDF  \n",
       "213435        Web   Windows Desktop         Chrome                 NDF  \n",
       "213436        iOS            iPhone      -unknown-                 NDF  \n",
       "213437    Android    Android Tablet      -unknown-                 NDF  \n",
       "213438        iOS            iPhone      -unknown-                 NDF  \n",
       "213439        Web   Windows Desktop        Firefox                  US  \n",
       "213440        iOS            iPhone  Mobile Safari                 NDF  \n",
       "213441        Web       Mac Desktop         Chrome                  ES  \n",
       "213442        Web       Mac Desktop         Chrome                 NDF  \n",
       "213443        Web       Mac Desktop         Safari                  US  \n",
       "213444        Web   Windows Desktop         Chrome                 NDF  \n",
       "213445        Web   Windows Desktop             IE                  US  \n",
       "213446        Web       Mac Desktop         Safari                 NDF  \n",
       "213447        Web   Windows Desktop         Chrome                 NDF  \n",
       "213448        Web       Mac Desktop        Firefox                 NDF  \n",
       "213449        iOS            iPhone  Mobile Safari                 NDF  \n",
       "213450        iOS            iPhone      -unknown-                 NDF  \n",
       "\n",
       "[213451 rows x 16 columns]>"
      ]
     },
     "execution_count": 5,
     "metadata": {},
     "output_type": "execute_result"
    }
   ],
   "source": [
    "train_users.info"
   ]
  },
  {
   "cell_type": "code",
   "execution_count": 6,
   "metadata": {},
   "outputs": [
    {
     "data": {
      "text/plain": [
       "id                          object\n",
       "date_account_created        object\n",
       "timestamp_first_active       int64\n",
       "date_first_booking          object\n",
       "gender                      object\n",
       "age                        float64\n",
       "signup_method               object\n",
       "signup_flow                  int64\n",
       "language                    object\n",
       "affiliate_channel           object\n",
       "affiliate_provider          object\n",
       "first_affiliate_tracked     object\n",
       "signup_app                  object\n",
       "first_device_type           object\n",
       "first_browser               object\n",
       "country_destination         object\n",
       "dtype: object"
      ]
     },
     "execution_count": 6,
     "metadata": {},
     "output_type": "execute_result"
    }
   ],
   "source": [
    "train_users.dtypes"
   ]
  },
  {
   "cell_type": "code",
   "execution_count": 7,
   "metadata": {},
   "outputs": [
    {
     "data": {
      "text/html": [
       "<div>\n",
       "<style>\n",
       "    .dataframe thead tr:only-child th {\n",
       "        text-align: right;\n",
       "    }\n",
       "\n",
       "    .dataframe thead th {\n",
       "        text-align: left;\n",
       "    }\n",
       "\n",
       "    .dataframe tbody tr th {\n",
       "        vertical-align: top;\n",
       "    }\n",
       "</style>\n",
       "<table border=\"1\" class=\"dataframe\">\n",
       "  <thead>\n",
       "    <tr style=\"text-align: right;\">\n",
       "      <th></th>\n",
       "      <th>id</th>\n",
       "      <th>date_account_created</th>\n",
       "      <th>timestamp_first_active</th>\n",
       "      <th>date_first_booking</th>\n",
       "      <th>gender</th>\n",
       "      <th>age</th>\n",
       "      <th>signup_method</th>\n",
       "      <th>signup_flow</th>\n",
       "      <th>language</th>\n",
       "      <th>affiliate_channel</th>\n",
       "      <th>affiliate_provider</th>\n",
       "      <th>first_affiliate_tracked</th>\n",
       "      <th>signup_app</th>\n",
       "      <th>first_device_type</th>\n",
       "      <th>first_browser</th>\n",
       "    </tr>\n",
       "  </thead>\n",
       "  <tbody>\n",
       "    <tr>\n",
       "      <th>0</th>\n",
       "      <td>5uwns89zht</td>\n",
       "      <td>2014-07-01</td>\n",
       "      <td>20140701000006</td>\n",
       "      <td>NaN</td>\n",
       "      <td>FEMALE</td>\n",
       "      <td>35.0</td>\n",
       "      <td>facebook</td>\n",
       "      <td>0</td>\n",
       "      <td>en</td>\n",
       "      <td>direct</td>\n",
       "      <td>direct</td>\n",
       "      <td>untracked</td>\n",
       "      <td>Moweb</td>\n",
       "      <td>iPhone</td>\n",
       "      <td>Mobile Safari</td>\n",
       "    </tr>\n",
       "    <tr>\n",
       "      <th>1</th>\n",
       "      <td>jtl0dijy2j</td>\n",
       "      <td>2014-07-01</td>\n",
       "      <td>20140701000051</td>\n",
       "      <td>NaN</td>\n",
       "      <td>-unknown-</td>\n",
       "      <td>NaN</td>\n",
       "      <td>basic</td>\n",
       "      <td>0</td>\n",
       "      <td>en</td>\n",
       "      <td>direct</td>\n",
       "      <td>direct</td>\n",
       "      <td>untracked</td>\n",
       "      <td>Moweb</td>\n",
       "      <td>iPhone</td>\n",
       "      <td>Mobile Safari</td>\n",
       "    </tr>\n",
       "    <tr>\n",
       "      <th>2</th>\n",
       "      <td>xx0ulgorjt</td>\n",
       "      <td>2014-07-01</td>\n",
       "      <td>20140701000148</td>\n",
       "      <td>NaN</td>\n",
       "      <td>-unknown-</td>\n",
       "      <td>NaN</td>\n",
       "      <td>basic</td>\n",
       "      <td>0</td>\n",
       "      <td>en</td>\n",
       "      <td>direct</td>\n",
       "      <td>direct</td>\n",
       "      <td>linked</td>\n",
       "      <td>Web</td>\n",
       "      <td>Windows Desktop</td>\n",
       "      <td>Chrome</td>\n",
       "    </tr>\n",
       "    <tr>\n",
       "      <th>3</th>\n",
       "      <td>6c6puo6ix0</td>\n",
       "      <td>2014-07-01</td>\n",
       "      <td>20140701000215</td>\n",
       "      <td>NaN</td>\n",
       "      <td>-unknown-</td>\n",
       "      <td>NaN</td>\n",
       "      <td>basic</td>\n",
       "      <td>0</td>\n",
       "      <td>en</td>\n",
       "      <td>direct</td>\n",
       "      <td>direct</td>\n",
       "      <td>linked</td>\n",
       "      <td>Web</td>\n",
       "      <td>Windows Desktop</td>\n",
       "      <td>IE</td>\n",
       "    </tr>\n",
       "    <tr>\n",
       "      <th>4</th>\n",
       "      <td>czqhjk3yfe</td>\n",
       "      <td>2014-07-01</td>\n",
       "      <td>20140701000305</td>\n",
       "      <td>NaN</td>\n",
       "      <td>-unknown-</td>\n",
       "      <td>NaN</td>\n",
       "      <td>basic</td>\n",
       "      <td>0</td>\n",
       "      <td>en</td>\n",
       "      <td>direct</td>\n",
       "      <td>direct</td>\n",
       "      <td>untracked</td>\n",
       "      <td>Web</td>\n",
       "      <td>Mac Desktop</td>\n",
       "      <td>Safari</td>\n",
       "    </tr>\n",
       "  </tbody>\n",
       "</table>\n",
       "</div>"
      ],
      "text/plain": [
       "           id date_account_created  timestamp_first_active  \\\n",
       "0  5uwns89zht           2014-07-01          20140701000006   \n",
       "1  jtl0dijy2j           2014-07-01          20140701000051   \n",
       "2  xx0ulgorjt           2014-07-01          20140701000148   \n",
       "3  6c6puo6ix0           2014-07-01          20140701000215   \n",
       "4  czqhjk3yfe           2014-07-01          20140701000305   \n",
       "\n",
       "   date_first_booking     gender   age signup_method  signup_flow language  \\\n",
       "0                 NaN     FEMALE  35.0      facebook            0       en   \n",
       "1                 NaN  -unknown-   NaN         basic            0       en   \n",
       "2                 NaN  -unknown-   NaN         basic            0       en   \n",
       "3                 NaN  -unknown-   NaN         basic            0       en   \n",
       "4                 NaN  -unknown-   NaN         basic            0       en   \n",
       "\n",
       "  affiliate_channel affiliate_provider first_affiliate_tracked signup_app  \\\n",
       "0            direct             direct               untracked      Moweb   \n",
       "1            direct             direct               untracked      Moweb   \n",
       "2            direct             direct                  linked        Web   \n",
       "3            direct             direct                  linked        Web   \n",
       "4            direct             direct               untracked        Web   \n",
       "\n",
       "  first_device_type  first_browser  \n",
       "0            iPhone  Mobile Safari  \n",
       "1            iPhone  Mobile Safari  \n",
       "2   Windows Desktop         Chrome  \n",
       "3   Windows Desktop             IE  \n",
       "4       Mac Desktop         Safari  "
      ]
     },
     "execution_count": 7,
     "metadata": {},
     "output_type": "execute_result"
    }
   ],
   "source": [
    "test_users.head()"
   ]
  },
  {
   "cell_type": "code",
   "execution_count": 8,
   "metadata": {},
   "outputs": [
    {
     "data": {
      "text/plain": [
       "(62096, 15)"
      ]
     },
     "execution_count": 8,
     "metadata": {},
     "output_type": "execute_result"
    }
   ],
   "source": [
    "test_users.shape"
   ]
  },
  {
   "cell_type": "code",
   "execution_count": 4,
   "metadata": {},
   "outputs": [
    {
     "data": {
      "text/html": [
       "<div>\n",
       "<style>\n",
       "    .dataframe thead tr:only-child th {\n",
       "        text-align: right;\n",
       "    }\n",
       "\n",
       "    .dataframe thead th {\n",
       "        text-align: left;\n",
       "    }\n",
       "\n",
       "    .dataframe tbody tr th {\n",
       "        vertical-align: top;\n",
       "    }\n",
       "</style>\n",
       "<table border=\"1\" class=\"dataframe\">\n",
       "  <thead>\n",
       "    <tr style=\"text-align: right;\">\n",
       "      <th></th>\n",
       "      <th>affiliate_channel</th>\n",
       "      <th>affiliate_provider</th>\n",
       "      <th>age</th>\n",
       "      <th>date_account_created</th>\n",
       "      <th>date_first_booking</th>\n",
       "      <th>first_affiliate_tracked</th>\n",
       "      <th>first_browser</th>\n",
       "      <th>first_device_type</th>\n",
       "      <th>gender</th>\n",
       "      <th>language</th>\n",
       "      <th>signup_app</th>\n",
       "      <th>signup_flow</th>\n",
       "      <th>signup_method</th>\n",
       "      <th>timestamp_first_active</th>\n",
       "    </tr>\n",
       "  </thead>\n",
       "  <tbody>\n",
       "    <tr>\n",
       "      <th>0</th>\n",
       "      <td>direct</td>\n",
       "      <td>direct</td>\n",
       "      <td>NaN</td>\n",
       "      <td>2010-06-28</td>\n",
       "      <td>NaN</td>\n",
       "      <td>untracked</td>\n",
       "      <td>Chrome</td>\n",
       "      <td>Mac Desktop</td>\n",
       "      <td>-unknown-</td>\n",
       "      <td>en</td>\n",
       "      <td>Web</td>\n",
       "      <td>0</td>\n",
       "      <td>facebook</td>\n",
       "      <td>20090319043255</td>\n",
       "    </tr>\n",
       "    <tr>\n",
       "      <th>1</th>\n",
       "      <td>seo</td>\n",
       "      <td>google</td>\n",
       "      <td>38.0</td>\n",
       "      <td>2011-05-25</td>\n",
       "      <td>NaN</td>\n",
       "      <td>untracked</td>\n",
       "      <td>Chrome</td>\n",
       "      <td>Mac Desktop</td>\n",
       "      <td>MALE</td>\n",
       "      <td>en</td>\n",
       "      <td>Web</td>\n",
       "      <td>0</td>\n",
       "      <td>facebook</td>\n",
       "      <td>20090523174809</td>\n",
       "    </tr>\n",
       "    <tr>\n",
       "      <th>2</th>\n",
       "      <td>direct</td>\n",
       "      <td>direct</td>\n",
       "      <td>56.0</td>\n",
       "      <td>2010-09-28</td>\n",
       "      <td>2010-08-02</td>\n",
       "      <td>untracked</td>\n",
       "      <td>IE</td>\n",
       "      <td>Windows Desktop</td>\n",
       "      <td>FEMALE</td>\n",
       "      <td>en</td>\n",
       "      <td>Web</td>\n",
       "      <td>3</td>\n",
       "      <td>basic</td>\n",
       "      <td>20090609231247</td>\n",
       "    </tr>\n",
       "    <tr>\n",
       "      <th>3</th>\n",
       "      <td>direct</td>\n",
       "      <td>direct</td>\n",
       "      <td>42.0</td>\n",
       "      <td>2011-12-05</td>\n",
       "      <td>2012-09-08</td>\n",
       "      <td>untracked</td>\n",
       "      <td>Firefox</td>\n",
       "      <td>Mac Desktop</td>\n",
       "      <td>FEMALE</td>\n",
       "      <td>en</td>\n",
       "      <td>Web</td>\n",
       "      <td>0</td>\n",
       "      <td>facebook</td>\n",
       "      <td>20091031060129</td>\n",
       "    </tr>\n",
       "    <tr>\n",
       "      <th>4</th>\n",
       "      <td>direct</td>\n",
       "      <td>direct</td>\n",
       "      <td>41.0</td>\n",
       "      <td>2010-09-14</td>\n",
       "      <td>2010-02-18</td>\n",
       "      <td>untracked</td>\n",
       "      <td>Chrome</td>\n",
       "      <td>Mac Desktop</td>\n",
       "      <td>-unknown-</td>\n",
       "      <td>en</td>\n",
       "      <td>Web</td>\n",
       "      <td>0</td>\n",
       "      <td>basic</td>\n",
       "      <td>20091208061105</td>\n",
       "    </tr>\n",
       "  </tbody>\n",
       "</table>\n",
       "</div>"
      ],
      "text/plain": [
       "  affiliate_channel affiliate_provider   age date_account_created  \\\n",
       "0            direct             direct   NaN           2010-06-28   \n",
       "1               seo             google  38.0           2011-05-25   \n",
       "2            direct             direct  56.0           2010-09-28   \n",
       "3            direct             direct  42.0           2011-12-05   \n",
       "4            direct             direct  41.0           2010-09-14   \n",
       "\n",
       "  date_first_booking first_affiliate_tracked first_browser first_device_type  \\\n",
       "0                NaN               untracked        Chrome       Mac Desktop   \n",
       "1                NaN               untracked        Chrome       Mac Desktop   \n",
       "2         2010-08-02               untracked            IE   Windows Desktop   \n",
       "3         2012-09-08               untracked       Firefox       Mac Desktop   \n",
       "4         2010-02-18               untracked        Chrome       Mac Desktop   \n",
       "\n",
       "      gender language signup_app  signup_flow signup_method  \\\n",
       "0  -unknown-       en        Web            0      facebook   \n",
       "1       MALE       en        Web            0      facebook   \n",
       "2     FEMALE       en        Web            3         basic   \n",
       "3     FEMALE       en        Web            0      facebook   \n",
       "4  -unknown-       en        Web            0         basic   \n",
       "\n",
       "   timestamp_first_active  \n",
       "0          20090319043255  \n",
       "1          20090523174809  \n",
       "2          20090609231247  \n",
       "3          20091031060129  \n",
       "4          20091208061105  "
      ]
     },
     "execution_count": 4,
     "metadata": {},
     "output_type": "execute_result"
    }
   ],
   "source": [
    "# merge train and test for the ease of preprocessing, remove id column\n",
    "users = pd.concat([train_users,test_users],axis=0, ignore_index=True).reset_index(drop= True) # add as rows \n",
    "users.drop(['id','country_destination'],axis= 1,inplace=True)\n",
    "#train_users = train_users.drop(['country_destination'], axis=1)\n",
    "users.head()"
   ]
  },
  {
   "cell_type": "markdown",
   "metadata": {},
   "source": [
    "## Missing Values\n",
    "There are some 'unknown' values in gender. We need to first convert them to NAN, then deal with missing values. "
   ]
  },
  {
   "cell_type": "code",
   "execution_count": 5,
   "metadata": {
    "collapsed": true
   },
   "outputs": [],
   "source": [
    "users.gender.replace('-unknown-',np.nan,inplace=True)"
   ]
  },
  {
   "cell_type": "code",
   "execution_count": 11,
   "metadata": {},
   "outputs": [
    {
     "data": {
      "text/plain": [
       "affiliate_channel               0\n",
       "affiliate_provider              0\n",
       "age                        116866\n",
       "date_account_created            0\n",
       "date_first_booking         186639\n",
       "first_affiliate_tracked      6085\n",
       "first_browser                   0\n",
       "first_device_type               0\n",
       "gender                     129480\n",
       "language                        0\n",
       "signup_app                      0\n",
       "signup_flow                     0\n",
       "signup_method                   0\n",
       "timestamp_first_active          0\n",
       "dtype: int64"
      ]
     },
     "execution_count": 11,
     "metadata": {},
     "output_type": "execute_result"
    }
   ],
   "source": [
    "users.isnull().sum()"
   ]
  },
  {
   "cell_type": "code",
   "execution_count": 12,
   "metadata": {},
   "outputs": [
    {
     "data": {
      "text/html": [
       "<div>\n",
       "<style>\n",
       "    .dataframe thead tr:only-child th {\n",
       "        text-align: right;\n",
       "    }\n",
       "\n",
       "    .dataframe thead th {\n",
       "        text-align: left;\n",
       "    }\n",
       "\n",
       "    .dataframe tbody tr th {\n",
       "        vertical-align: top;\n",
       "    }\n",
       "</style>\n",
       "<table border=\"1\" class=\"dataframe\">\n",
       "  <thead>\n",
       "    <tr style=\"text-align: right;\">\n",
       "      <th></th>\n",
       "      <th>column_name</th>\n",
       "      <th>missing_count</th>\n",
       "    </tr>\n",
       "  </thead>\n",
       "  <tbody>\n",
       "    <tr>\n",
       "      <th>5</th>\n",
       "      <td>first_affiliate_tracked</td>\n",
       "      <td>6085</td>\n",
       "    </tr>\n",
       "    <tr>\n",
       "      <th>2</th>\n",
       "      <td>age</td>\n",
       "      <td>116866</td>\n",
       "    </tr>\n",
       "    <tr>\n",
       "      <th>8</th>\n",
       "      <td>gender</td>\n",
       "      <td>129480</td>\n",
       "    </tr>\n",
       "    <tr>\n",
       "      <th>4</th>\n",
       "      <td>date_first_booking</td>\n",
       "      <td>186639</td>\n",
       "    </tr>\n",
       "  </tbody>\n",
       "</table>\n",
       "</div>"
      ],
      "text/plain": [
       "               column_name  missing_count\n",
       "5  first_affiliate_tracked           6085\n",
       "2                      age         116866\n",
       "8                   gender         129480\n",
       "4       date_first_booking         186639"
      ]
     },
     "execution_count": 12,
     "metadata": {},
     "output_type": "execute_result"
    }
   ],
   "source": [
    "## Create a missing_df to store missing values\n",
    "missing_df = users.isnull().sum().reset_index()\n",
    "missing_df.columns = ['column_name','missing_count']\n",
    "missing_df = missing_df.loc[missing_df['missing_count']>0]\n",
    "missing_df = missing_df.sort_values(by='missing_count')\n",
    "missing_df"
   ]
  },
  {
   "cell_type": "code",
   "execution_count": 13,
   "metadata": {},
   "outputs": [
    {
     "data": {
      "image/png": "[encoded data removed]",
      "text/plain": [
       "<matplotlib.figure.Figure at 0x10ff53048>"
      ]
     },
     "metadata": {},
     "output_type": "display_data"
    }
   ],
   "source": [
    "# draw a horizontal bar plot to visualize missing values\n",
    "ind = np.arange(missing_df.shape[0]) # set colmnames length as the length of y-axis on graph\n",
    "width = 0.9 # bar width\n",
    "fig, ax = plt.subplots(figsize=(8,8))\n",
    "rects= ax.barh(ind,missing_df.missing_count.values,color='green')  # horizontal bar(bar location, values)\n",
    "ax.set_yticks(ind) # provide an index for each bar\n",
    "ax.set_yticklabels(missing_df.column_name.values,rotation='horizontal')# label bars into corresponding position\n",
    "ax.set_xlabel('Count of missing values')\n",
    "ax.set_title('number of missing values in each column')\n",
    "plt.show()"
   ]
  },
  {
   "cell_type": "code",
   "execution_count": 18,
   "metadata": {},
   "outputs": [
    {
     "data": {
      "text/plain": [
       "array([ nan])"
      ]
     },
     "execution_count": 18,
     "metadata": {},
     "output_type": "execute_result"
    }
   ],
   "source": [
    "test_users.date_first_booking.unique()"
   ]
  },
  {
   "cell_type": "code",
   "execution_count": 6,
   "metadata": {
    "collapsed": true
   },
   "outputs": [],
   "source": [
    "users.drop('date_first_booking',axis=1,inplace= True)"
   ]
  },
  {
   "cell_type": "markdown",
   "metadata": {},
   "source": [
    "* Date_first_booking feature is NaN for all test users. Therefore, we will not use it for our model building process.\n",
    "* Both gender and age have a lot of missing values."
   ]
  },
  {
   "cell_type": "markdown",
   "metadata": {},
   "source": [
    "### a) age\n"
   ]
  },
  {
   "cell_type": "code",
   "execution_count": 16,
   "metadata": {},
   "outputs": [
    {
     "data": {
      "text/plain": [
       "count    158681.000000\n",
       "mean         47.145310\n",
       "std         142.629468\n",
       "min           1.000000\n",
       "25%          28.000000\n",
       "50%          33.000000\n",
       "75%          42.000000\n",
       "max        2014.000000\n",
       "Name: age, dtype: float64"
      ]
     },
     "execution_count": 16,
     "metadata": {},
     "output_type": "execute_result"
    }
   ],
   "source": [
    "users.age.describe()"
   ]
  },
  {
   "cell_type": "code",
   "execution_count": 7,
   "metadata": {
    "collapsed": true
   },
   "outputs": [],
   "source": [
    "# set all values outside range(14,100) to be NaN\n",
    "users.loc[users['age']< 14, 'age'] = np.nan\n",
    "users.loc[users['age'] > 100, 'age'] = np.nan"
   ]
  },
  {
   "cell_type": "code",
   "execution_count": 21,
   "metadata": {},
   "outputs": [
    {
     "data": {
      "text/plain": [
       "33.0"
      ]
     },
     "execution_count": 21,
     "metadata": {},
     "output_type": "execute_result"
    }
   ],
   "source": [
    "users.age.median()"
   ]
  },
  {
   "cell_type": "code",
   "execution_count": 8,
   "metadata": {
    "collapsed": true
   },
   "outputs": [],
   "source": [
    "# set NaN to median age (33)\n",
    "index = users.age.isnull()\n",
    "users.loc[index,'age'] = 33"
   ]
  },
  {
   "cell_type": "markdown",
   "metadata": {},
   "source": [
    "### b) gender"
   ]
  },
  {
   "cell_type": "markdown",
   "metadata": {},
   "source": [
    "* The majority of gender is NaN\n",
    "* I set the NaN in gender as 'female', which is the more frequent than male"
   ]
  },
  {
   "cell_type": "code",
   "execution_count": 9,
   "metadata": {
    "collapsed": true
   },
   "outputs": [],
   "source": [
    "index = users.gender.isnull()\n",
    "users.loc[index,'gender']= 'FEMALE'"
   ]
  },
  {
   "cell_type": "markdown",
   "metadata": {},
   "source": [
    "## Plots"
   ]
  },
  {
   "cell_type": "markdown",
   "metadata": {},
   "source": [
    "### a ) Categorical features plots"
   ]
  },
  {
   "cell_type": "code",
   "execution_count": 10,
   "metadata": {
    "collapsed": true
   },
   "outputs": [],
   "source": [
    "data_types = users.dtypes  \n",
    "cat_cols = list(data_types[data_types=='object'].index)\n",
    "con_cols = list(data_types[data_types=='int64'].index) + list(data_types[data_types=='float64'].index)\n"
   ]
  },
  {
   "cell_type": "code",
   "execution_count": 25,
   "metadata": {
    "scrolled": false
   },
   "outputs": [
    {
     "data": {
      "image/png": "[encoded data removed]",
      "text/plain": [
       "<matplotlib.figure.Figure at 0x13ca6bba8>"
      ]
     },
     "metadata": {},
     "output_type": "display_data"
    },
    {
     "data": {
      "image/png": "[encoded data removed]",
      "text/plain": [
       "<matplotlib.figure.Figure at 0x12f3d5080>"
      ]
     },
     "metadata": {},
     "output_type": "display_data"
    },
    {
     "data": {
      "image/png": "[encoded data removed]",
      "text/plain": [
       "<matplotlib.figure.Figure at 0x12f549780>"
      ]
     },
     "metadata": {},
     "output_type": "display_data"
    },
    {
     "data": {
      "image/png": "[encoded data removed]",
      "text/plain": [
       "<matplotlib.figure.Figure at 0x12ee8dd30>"
      ]
     },
     "metadata": {},
     "output_type": "display_data"
    },
    {
     "data": {
      "image/png": "[encoded data removed]",
      "text/plain": [
       "<matplotlib.figure.Figure at 0x13be30eb8>"
      ]
     },
     "metadata": {},
     "output_type": "display_data"
    }
   ],
   "source": [
    "n_cols = 2   #10 cat features\n",
    "n_rows = 5\n",
    "for i in range(n_rows):\n",
    "    fg,ax = plt.subplots(nrows=1,ncols=n_cols,figsize=(16,7))\n",
    "    for j in range(n_cols):\n",
    "        sns.countplot(x=cat_cols[i*n_cols+j], data=users, ax=ax[j])"
   ]
  },
  {
   "cell_type": "markdown",
   "metadata": {},
   "source": [
    "* ppl tend to register on facebook a lot more than on google.Yet, registering on Airbnb is the most common.\n",
    "* ppl like to pay on Airbnb the most, and then using google payment I guess.\n",
    "* Most ppl used chrome as the first brower and Mac as the first device. "
   ]
  },
  {
   "cell_type": "markdown",
   "metadata": {},
   "source": [
    "### b) Numerical data plots"
   ]
  },
  {
   "cell_type": "code",
   "execution_count": 22,
   "metadata": {},
   "outputs": [
    {
     "data": {
      "text/plain": [
       "['signup_flow', 'timestamp_first_active', 'age']"
      ]
     },
     "execution_count": 22,
     "metadata": {},
     "output_type": "execute_result"
    }
   ],
   "source": [
    "con_cols"
   ]
  },
  {
   "cell_type": "code",
   "execution_count": 175,
   "metadata": {},
   "outputs": [
    {
     "data": {
      "image/png": "[encoded data removed]",
      "text/plain": [
       "<matplotlib.figure.Figure at 0x1260b9cc0>"
      ]
     },
     "metadata": {},
     "output_type": "display_data"
    }
   ],
   "source": [
    "fg,ax = plt.subplots(3,1,figsize=(16, 12))\n",
    "\n",
    "for i in range(len(con_cols)):\n",
    "    sns.violinplot(y=con_cols[i], data=users, ax=ax[i])"
   ]
  },
  {
   "cell_type": "markdown",
   "metadata": {},
   "source": [
    "* None of the numeric features are normally distributed.\n",
    "* Therefore, transformation and normalization are needed.\n",
    "* There is a peak for activation in 2014. Maybe because Airbnb was getting more popular.\n",
    "* The majority of people are aged around 36"
   ]
  },
  {
   "cell_type": "markdown",
   "metadata": {},
   "source": [
    "### c) Labels plot"
   ]
  },
  {
   "cell_type": "code",
   "execution_count": 26,
   "metadata": {},
   "outputs": [
    {
     "data": {
      "image/png": "[encoded data removed]",
      "text/plain": [
       "<matplotlib.figure.Figure at 0x111132e10>"
      ]
     },
     "metadata": {},
     "output_type": "display_data"
    }
   ],
   "source": [
    "fig = plt.figure(figsize=(10,6))\n",
    "destination_percentage = train_users.country_destination.value_counts() / train_users.shape[0] * 100\n",
    "destination_percentage.plot(kind='bar',color='#FD5C64', rot=0)\n",
    "# Using seaborn can also be plotted\n",
    "# sns.countplot(x=\"country_destination\", data=users, order=list(users.country_destination.value_counts().keys()))\n",
    "plt.xlabel('Destination Country')\n",
    "plt.ylabel('Percentage')\n",
    "sns.despine()"
   ]
  },
  {
   "cell_type": "markdown",
   "metadata": {},
   "source": [
    "* Most users did not book\n",
    "* More ppl had booked to US"
   ]
  },
  {
   "cell_type": "code",
   "execution_count": 33,
   "metadata": {},
   "outputs": [
    {
     "data": {
      "image/png": "[encoded data removed]",
      "text/plain": [
       "<matplotlib.figure.Figure at 0x1158049e8>"
      ]
     },
     "metadata": {},
     "output_type": "display_data"
    }
   ],
   "source": [
    "# compare ppl over age of 45 and below\n",
    "fig = plt.figure(figsize=(16,8))\n",
    "age = 45\n",
    "\n",
    "younger = sum(train_users.loc[train_users['age'] < age, 'country_destination'].value_counts())\n",
    "older = sum(train_users.loc[train_users['age'] > age, 'country_destination'].value_counts())\n",
    "\n",
    "younger_destinations = train_users.loc[train_users['age'] < age, 'country_destination'].value_counts() / younger * 100\n",
    "older_destinations = train_users.loc[train_users['age'] > age, 'country_destination'].value_counts() / older * 100\n",
    "\n",
    "younger_destinations.plot(kind='bar', width=0.3, color='#63EA55', position=0, label='Youngers', rot=0)\n",
    "older_destinations.plot(kind='bar', width=0.3, color='#4DD3C9', position=1, label='Olders', rot=0)\n",
    "\n",
    "plt.legend()\n",
    "plt.xlabel('Destination Country')\n",
    "plt.ylabel('Percentage')\n",
    "\n",
    "sns.despine()\n",
    "plt.show()"
   ]
  },
  {
   "cell_type": "markdown",
   "metadata": {},
   "source": [
    "## Dates"
   ]
  },
  {
   "cell_type": "markdown",
   "metadata": {},
   "source": [
    "### a) date_account_created"
   ]
  },
  {
   "cell_type": "code",
   "execution_count": 11,
   "metadata": {
    "collapsed": true
   },
   "outputs": [],
   "source": [
    "# Time series plot for account created by time\n",
    "users['date_account_created'] = pd.to_datetime(users['date_account_created'])"
   ]
  },
  {
   "cell_type": "code",
   "execution_count": 73,
   "metadata": {},
   "outputs": [
    {
     "data": {
      "text/plain": [
       "<matplotlib.axes._subplots.AxesSubplot at 0x112affbe0>"
      ]
     },
     "execution_count": 73,
     "metadata": {},
     "output_type": "execute_result"
    },
    {
     "data": {
      "image/png": "[encoded data removed]",
      "text/plain": [
       "<matplotlib.figure.Figure at 0x115061940>"
      ]
     },
     "metadata": {},
     "output_type": "display_data"
    }
   ],
   "source": [
    "sns.set_style(\"whitegrid\", {'axes.edgecolor': '0'})\n",
    "sns.set_context(\"poster\", font_scale=1.1)\n",
    "users.date_account_created.value_counts().plot(kind='line', linewidth=1.2, color='#FD5C64')"
   ]
  },
  {
   "cell_type": "code",
   "execution_count": 12,
   "metadata": {
    "collapsed": true
   },
   "outputs": [],
   "source": [
    "# split date_account_created to year, month, day, added to the dataframe as columns\n",
    "# alternative: users['date_account_created'] = pd.to_datetime(users['date_account_created'])\n",
    "dac = np.vstack(users.date_account_created.astype(str).apply(lambda x: list(map(int, x.split('-')))).values)\n",
    "users['dac_year'] = dac[:,0]\n",
    "users['dac_month'] = dac[:,1]\n",
    "users['dac_day'] = dac[:,2]\n",
    "users = users.drop(['date_account_created'], axis=1)"
   ]
  },
  {
   "cell_type": "markdown",
   "metadata": {},
   "source": [
    "### b) timestamp_first_active"
   ]
  },
  {
   "cell_type": "code",
   "execution_count": 13,
   "metadata": {
    "collapsed": true
   },
   "outputs": [],
   "source": [
    "users['date_first_active'] = pd.to_datetime((users.timestamp_first_active // 1000000), format='%Y%m%d')"
   ]
  },
  {
   "cell_type": "code",
   "execution_count": 78,
   "metadata": {},
   "outputs": [
    {
     "data": {
      "text/plain": [
       "<matplotlib.axes._subplots.AxesSubplot at 0x112adf320>"
      ]
     },
     "execution_count": 78,
     "metadata": {},
     "output_type": "execute_result"
    },
    {
     "data": {
      "image/png": "[encoded data removed]",
      "text/plain": [
       "<matplotlib.figure.Figure at 0x110503828>"
      ]
     },
     "metadata": {},
     "output_type": "display_data"
    }
   ],
   "source": [
    "users.date_first_active.value_counts().plot(kind='line', linewidth=1.2, color='#FD5C64')"
   ]
  },
  {
   "cell_type": "code",
   "execution_count": 14,
   "metadata": {
    "collapsed": true
   },
   "outputs": [],
   "source": [
    "#timestamp_first_active\n",
    "#users['date_first_active']=pd.to_datetime((users.timestamp_first_active // 1000000), format='%Y%m%d')\n",
    "tfa = np.vstack(users.date_first_active.astype(str).apply(lambda x: list(map(int, x.split('-')))).values)\n",
    "users['tfa_year'] = tfa[:,0]\n",
    "users['tfa_month'] = tfa[:,1]\n",
    "users['tfa_day'] = tfa[:,2]\n",
    "users = users.drop(['timestamp_first_active','date_first_active'], axis=1)"
   ]
  },
  {
   "cell_type": "code",
   "execution_count": 30,
   "metadata": {},
   "outputs": [
    {
     "data": {
      "text/html": [
       "<div>\n",
       "<style>\n",
       "    .dataframe thead tr:only-child th {\n",
       "        text-align: right;\n",
       "    }\n",
       "\n",
       "    .dataframe thead th {\n",
       "        text-align: left;\n",
       "    }\n",
       "\n",
       "    .dataframe tbody tr th {\n",
       "        vertical-align: top;\n",
       "    }\n",
       "</style>\n",
       "<table border=\"1\" class=\"dataframe\">\n",
       "  <thead>\n",
       "    <tr style=\"text-align: right;\">\n",
       "      <th></th>\n",
       "      <th>affiliate_channel</th>\n",
       "      <th>affiliate_provider</th>\n",
       "      <th>age</th>\n",
       "      <th>first_affiliate_tracked</th>\n",
       "      <th>first_browser</th>\n",
       "      <th>first_device_type</th>\n",
       "      <th>gender</th>\n",
       "      <th>language</th>\n",
       "      <th>signup_app</th>\n",
       "      <th>signup_flow</th>\n",
       "      <th>signup_method</th>\n",
       "      <th>dac_year</th>\n",
       "      <th>dac_month</th>\n",
       "      <th>dac_day</th>\n",
       "      <th>tfa_year</th>\n",
       "      <th>tfa_month</th>\n",
       "      <th>tfa_day</th>\n",
       "    </tr>\n",
       "  </thead>\n",
       "  <tbody>\n",
       "    <tr>\n",
       "      <th>0</th>\n",
       "      <td>direct</td>\n",
       "      <td>direct</td>\n",
       "      <td>33.0</td>\n",
       "      <td>untracked</td>\n",
       "      <td>Chrome</td>\n",
       "      <td>Mac Desktop</td>\n",
       "      <td>FEMALE</td>\n",
       "      <td>en</td>\n",
       "      <td>Web</td>\n",
       "      <td>0</td>\n",
       "      <td>facebook</td>\n",
       "      <td>2010</td>\n",
       "      <td>6</td>\n",
       "      <td>28</td>\n",
       "      <td>2009</td>\n",
       "      <td>3</td>\n",
       "      <td>19</td>\n",
       "    </tr>\n",
       "    <tr>\n",
       "      <th>1</th>\n",
       "      <td>seo</td>\n",
       "      <td>google</td>\n",
       "      <td>38.0</td>\n",
       "      <td>untracked</td>\n",
       "      <td>Chrome</td>\n",
       "      <td>Mac Desktop</td>\n",
       "      <td>MALE</td>\n",
       "      <td>en</td>\n",
       "      <td>Web</td>\n",
       "      <td>0</td>\n",
       "      <td>facebook</td>\n",
       "      <td>2011</td>\n",
       "      <td>5</td>\n",
       "      <td>25</td>\n",
       "      <td>2009</td>\n",
       "      <td>5</td>\n",
       "      <td>23</td>\n",
       "    </tr>\n",
       "    <tr>\n",
       "      <th>2</th>\n",
       "      <td>direct</td>\n",
       "      <td>direct</td>\n",
       "      <td>56.0</td>\n",
       "      <td>untracked</td>\n",
       "      <td>IE</td>\n",
       "      <td>Windows Desktop</td>\n",
       "      <td>FEMALE</td>\n",
       "      <td>en</td>\n",
       "      <td>Web</td>\n",
       "      <td>3</td>\n",
       "      <td>basic</td>\n",
       "      <td>2010</td>\n",
       "      <td>9</td>\n",
       "      <td>28</td>\n",
       "      <td>2009</td>\n",
       "      <td>6</td>\n",
       "      <td>9</td>\n",
       "    </tr>\n",
       "    <tr>\n",
       "      <th>3</th>\n",
       "      <td>direct</td>\n",
       "      <td>direct</td>\n",
       "      <td>42.0</td>\n",
       "      <td>untracked</td>\n",
       "      <td>Firefox</td>\n",
       "      <td>Mac Desktop</td>\n",
       "      <td>FEMALE</td>\n",
       "      <td>en</td>\n",
       "      <td>Web</td>\n",
       "      <td>0</td>\n",
       "      <td>facebook</td>\n",
       "      <td>2011</td>\n",
       "      <td>12</td>\n",
       "      <td>5</td>\n",
       "      <td>2009</td>\n",
       "      <td>10</td>\n",
       "      <td>31</td>\n",
       "    </tr>\n",
       "    <tr>\n",
       "      <th>4</th>\n",
       "      <td>direct</td>\n",
       "      <td>direct</td>\n",
       "      <td>41.0</td>\n",
       "      <td>untracked</td>\n",
       "      <td>Chrome</td>\n",
       "      <td>Mac Desktop</td>\n",
       "      <td>FEMALE</td>\n",
       "      <td>en</td>\n",
       "      <td>Web</td>\n",
       "      <td>0</td>\n",
       "      <td>basic</td>\n",
       "      <td>2010</td>\n",
       "      <td>9</td>\n",
       "      <td>14</td>\n",
       "      <td>2009</td>\n",
       "      <td>12</td>\n",
       "      <td>8</td>\n",
       "    </tr>\n",
       "  </tbody>\n",
       "</table>\n",
       "</div>"
      ],
      "text/plain": [
       "  affiliate_channel affiliate_provider   age first_affiliate_tracked  \\\n",
       "0            direct             direct  33.0               untracked   \n",
       "1               seo             google  38.0               untracked   \n",
       "2            direct             direct  56.0               untracked   \n",
       "3            direct             direct  42.0               untracked   \n",
       "4            direct             direct  41.0               untracked   \n",
       "\n",
       "  first_browser first_device_type  gender language signup_app  signup_flow  \\\n",
       "0        Chrome       Mac Desktop  FEMALE       en        Web            0   \n",
       "1        Chrome       Mac Desktop    MALE       en        Web            0   \n",
       "2            IE   Windows Desktop  FEMALE       en        Web            3   \n",
       "3       Firefox       Mac Desktop  FEMALE       en        Web            0   \n",
       "4        Chrome       Mac Desktop  FEMALE       en        Web            0   \n",
       "\n",
       "  signup_method  dac_year  dac_month  dac_day  tfa_year  tfa_month  tfa_day  \n",
       "0      facebook      2010          6       28      2009          3       19  \n",
       "1      facebook      2011          5       25      2009          5       23  \n",
       "2         basic      2010          9       28      2009          6        9  \n",
       "3      facebook      2011         12        5      2009         10       31  \n",
       "4         basic      2010          9       14      2009         12        8  "
      ]
     },
     "execution_count": 30,
     "metadata": {},
     "output_type": "execute_result"
    }
   ],
   "source": [
    "users.head()"
   ]
  },
  {
   "cell_type": "markdown",
   "metadata": {},
   "source": [
    "* Both date_account_created and timestamp_first_active are not stationary. \n",
    "* There is a significant trend for those features. \n",
    "* We may need log transformation to get rid of trend component\n",
    "\n",
    "\n",
    "### Questions:\n",
    "* Q1: But we convert them into int and split into different columns, then no transformation needed?\n",
    "* Q2: If we need to do transformation, should we do it seperately to year, month and day, or only do it to year?"
   ]
  },
  {
   "cell_type": "markdown",
   "metadata": {},
   "source": [
    "## Numerical features preprocessing"
   ]
  },
  {
   "cell_type": "code",
   "execution_count": 15,
   "metadata": {},
   "outputs": [
    {
     "name": "stdout",
     "output_type": "stream",
     "text": [
      "age    2.044973\n",
      "dtype: float64\n"
     ]
    }
   ],
   "source": [
    "#Calculate skewness for age: \n",
    "from scipy.stats import skew, boxcox\n",
    "skewed_cols = users[['age']].skew()\n",
    "print (skewed_cols.sort_values())"
   ]
  },
  {
   "cell_type": "code",
   "execution_count": 16,
   "metadata": {
    "collapsed": true
   },
   "outputs": [],
   "source": [
    "skewed_cols = skewed_cols[abs(skewed_cols) > 0.25].index.values\n",
    "users[skewed_cols], lam = boxcox(users[skewed_cols] + 1)"
   ]
  },
  {
   "cell_type": "markdown",
   "metadata": {},
   "source": [
    "* skewness for age had been improved"
   ]
  },
  {
   "cell_type": "code",
   "execution_count": 17,
   "metadata": {
    "collapsed": true
   },
   "outputs": [],
   "source": [
    "# standard scaling\n",
    "SSL = preprocessing.StandardScaler()\n",
    "users[skewed_cols]= SSL.fit_transform(users[skewed_cols].values.reshape(-1,1))"
   ]
  },
  {
   "cell_type": "code",
   "execution_count": 42,
   "metadata": {},
   "outputs": [
    {
     "data": {
      "text/plain": [
       "<matplotlib.axes._subplots.AxesSubplot at 0x11c1f1320>"
      ]
     },
     "execution_count": 42,
     "metadata": {},
     "output_type": "execute_result"
    },
    {
     "data": {
      "image/png": "[encoded data removed]",
      "text/plain": [
       "<matplotlib.figure.Figure at 0x13081e4e0>"
      ]
     },
     "metadata": {},
     "output_type": "display_data"
    }
   ],
   "source": [
    "fg,ax = plt.subplots(1,1,figsize=(10, 8))\n",
    "sns.violinplot(y=skewed_cols, data=users)"
   ]
  },
  {
   "cell_type": "markdown",
   "metadata": {},
   "source": [
    "## Categorical features preprocessing"
   ]
  },
  {
   "cell_type": "markdown",
   "metadata": {},
   "source": [
    "### one_hot encoding (factorizing)"
   ]
  },
  {
   "cell_type": "code",
   "execution_count": 18,
   "metadata": {
    "collapsed": true
   },
   "outputs": [],
   "source": [
    "cat_cols = cat_cols + list(users['signup_flow'].index)"
   ]
  },
  {
   "cell_type": "code",
   "execution_count": 19,
   "metadata": {
    "collapsed": true
   },
   "outputs": [],
   "source": [
    "# use get_dummies features because the data is not big\n",
    "ohe_feats = ['gender','signup_method', 'signup_flow', 'language', 'affiliate_channel', 'affiliate_provider', 'first_affiliate_tracked', 'signup_app', 'first_device_type', 'first_browser']\n",
    "for f in ohe_feats:\n",
    "    users_dummy = pd.get_dummies(users[f], prefix=f)\n",
    "    users = users.drop([f], axis=1)\n",
    "    users = pd.concat((users, users_dummy), axis=1)"
   ]
  },
  {
   "cell_type": "markdown",
   "metadata": {},
   "source": [
    "### Questions:\n",
    "* Q3: I remember TA said that one_hot encoding requires features to be numeric first;\n",
    "     but for get_dummies, it gives an error if there is numeric values in some features. \n",
    "      \n",
    "      Can I say for get_dummies, all features must be categorical?"
   ]
  },
  {
   "cell_type": "markdown",
   "metadata": {},
   "source": [
    "## Modeling: XGBClassifier on all training data"
   ]
  },
  {
   "cell_type": "markdown",
   "metadata": {},
   "source": [
    "### split train and test"
   ]
  },
  {
   "cell_type": "code",
   "execution_count": 20,
   "metadata": {
    "collapsed": true
   },
   "outputs": [],
   "source": [
    "#Splitting train and test\n",
    "vals = users.values # returns an array of every row \n",
    "X = vals[:train_size]\n",
    "le = preprocessing.LabelEncoder()\n",
    "y = le.fit_transform(labels)  # encode labels  \n",
    "X_test = vals[train_size:]"
   ]
  },
  {
   "cell_type": "markdown",
   "metadata": {},
   "source": [
    "### a) NDCG (Normalized discounted cumulative gain) calculation\n",
    "Note: Returns an error while using this as the objective function in GridSearchCV process. Therefore, not using it here. "
   ]
  },
  {
   "cell_type": "code",
   "execution_count": 26,
   "metadata": {
    "collapsed": true
   },
   "outputs": [],
   "source": [
    "\"\"\"Metrics to compute the model performance.\"\"\"\n",
    "\n",
    "import numpy as np\n",
    "from sklearn.preprocessing import LabelBinarizer\n",
    "from sklearn.metrics import make_scorer\n",
    "\n",
    "\n",
    "def dcg_score(y_true, y_score, k=5):\n",
    "    \"\"\"Discounted cumulative gain (DCG) at rank K.\n",
    "\n",
    "    Parameters\n",
    "    ----------\n",
    "    y_true : array, shape = [n_samples]\n",
    "        Ground truth (true relevance labels).\n",
    "    y_score : array, shape = [n_samples, n_classes]\n",
    "        Predicted scores.\n",
    "    k : int\n",
    "        Rank.\n",
    "\n",
    "    Returns\n",
    "    -------\n",
    "    score : float\n",
    "    \"\"\"\n",
    "    order = np.argsort(y_score)[::-1]\n",
    "    y_true = np.take(y_true, order[:k])\n",
    "\n",
    "    gain = 2 ** y_true - 1\n",
    "\n",
    "    discounts = np.log2(np.arange(len(y_true)) + 2)\n",
    "    return np.sum(gain / discounts)"
   ]
  },
  {
   "cell_type": "code",
   "execution_count": 27,
   "metadata": {
    "collapsed": true
   },
   "outputs": [],
   "source": [
    "def ndcg_score(ground_truth, predictions, k=5):\n",
    "    \"\"\"Normalized discounted cumulative gain (NDCG) at rank K.\n",
    "\n",
    "    Normalized Discounted Cumulative Gain (NDCG) measures the performance of a\n",
    "    recommendation system based on the graded relevance of the recommended\n",
    "    entities. It varies from 0.0 to 1.0, with 1.0 representing the ideal\n",
    "    ranking of the entities.\n",
    "\n",
    "    Parameters\n",
    "    ----------\n",
    "    ground_truth : array, shape = [n_samples]\n",
    "        Ground truth (true labels represended as integers).\n",
    "    predictions : array, shape = [n_samples, n_classes]\n",
    "        Predicted probabilities.\n",
    "    k : int\n",
    "        Rank.\n",
    "\n",
    "    Returns\n",
    "    -------\n",
    "    score : float\n",
    "\n",
    "    Example\n",
    "    -------\n",
    "    >>> ground_truth = [1, 0, 2]\n",
    "    >>> predictions = [[0.15, 0.55, 0.2], [0.7, 0.2, 0.1], [0.06, 0.04, 0.9]]\n",
    "    >>> score = ndcg_score(ground_truth, predictions, k=2)\n",
    "    1.0\n",
    "    >>> predictions = [[0.9, 0.5, 0.8], [0.7, 0.2, 0.1], [0.06, 0.04, 0.9]]\n",
    "    >>> score = ndcg_score(ground_truth, predictions, k=2)\n",
    "    0.6666666666\n",
    "    \"\"\"\n",
    "    lb = LabelBinarizer()\n",
    "    # get first array element of predictions array to correct calculate ground_truth len\n",
    "    lb.fit(range(len(predictions[0]) + 1))\n",
    "    T = lb.transform(ground_truth)\n",
    "\n",
    "    scores = []\n",
    "\n",
    "    # Iterate over each y_true and compute the DCG score\n",
    "    for y_true, y_score in zip(T, predictions):\n",
    "        actual = dcg_score(y_true, y_score, k)\n",
    "        best = dcg_score(y_true, y_true, k)\n",
    "        \n",
    "        # HACK: Should not be needed, but in case nothing was relevant\n",
    "        if best <= 0:\n",
    "            score = 0.0\n",
    "        else:\n",
    "            score = float(actual) / float(best)\n",
    "        scores.append(score)\n",
    "\n",
    "    return np.mean(scores)\n",
    "\n",
    "\n",
    "# NDCG Scorer function\n",
    "ndcg_scorer = make_scorer(ndcg_score, needs_proba=True, k=5)"
   ]
  },
  {
   "cell_type": "markdown",
   "metadata": {},
   "source": [
    "### b) GridSearchCV to find the best model parameter combinations "
   ]
  },
  {
   "cell_type": "code",
   "execution_count": 28,
   "metadata": {
    "collapsed": true
   },
   "outputs": [],
   "source": [
    "def search_model(train_x, train_y, est, param_grid, n_jobs, cv, refit=False):\n",
    "##Grid Search for the best model\n",
    "    model = GridSearchCV(estimator  = est,\n",
    "                                     param_grid = param_grid,\n",
    "                                     scoring    = ndcg_scorer, # change scoring with user define functions\n",
    "                                     verbose    = 10,\n",
    "                                     n_jobs  = n_jobs,\n",
    "                                     iid        = True,\n",
    "                                     refit    = refit,\n",
    "                                     cv      = cv)\n",
    "    # Fit Grid Search Model\n",
    "    model.fit(train_x, train_y)\n",
    "    print(\"Best score: %0.3f\" % model.best_score_)\n",
    "    print(\"Best parameters set:\", model.best_params_)\n",
    "    print(\"Scores:\", model.grid_scores_)\n",
    "    return model"
   ]
  },
  {
   "cell_type": "code",
   "execution_count": 29,
   "metadata": {},
   "outputs": [
    {
     "name": "stdout",
     "output_type": "stream",
     "text": [
      "Fitting 3 folds for each of 1 candidates, totalling 3 fits\n",
      "[CV] colsample_bytree=0.5, gamma=0.9, learning_rate=0.1, max_depth=6, min_child_weight=50, n_estimators=100, nthread=-1, objective=multi:softprob, seed=0, subsample=0.78 \n",
      "[CV]  colsample_bytree=0.5, gamma=0.9, learning_rate=0.1, max_depth=6, min_child_weight=50, n_estimators=100, nthread=-1, objective=multi:softprob, seed=0, subsample=0.78, score=0.691426, total=12.7min\n",
      "[CV] colsample_bytree=0.5, gamma=0.9, learning_rate=0.1, max_depth=6, min_child_weight=50, n_estimators=100, nthread=-1, objective=multi:softprob, seed=0, subsample=0.78 \n"
     ]
    },
    {
     "name": "stderr",
     "output_type": "stream",
     "text": [
      "[Parallel(n_jobs=1)]: Done   1 out of   1 | elapsed: 13.1min remaining:    0.0s\n"
     ]
    },
    {
     "name": "stdout",
     "output_type": "stream",
     "text": [
      "[CV]  colsample_bytree=0.5, gamma=0.9, learning_rate=0.1, max_depth=6, min_child_weight=50, n_estimators=100, nthread=-1, objective=multi:softprob, seed=0, subsample=0.78, score=0.704535, total=12.9min\n",
      "[CV] colsample_bytree=0.5, gamma=0.9, learning_rate=0.1, max_depth=6, min_child_weight=50, n_estimators=100, nthread=-1, objective=multi:softprob, seed=0, subsample=0.78 \n"
     ]
    },
    {
     "name": "stderr",
     "output_type": "stream",
     "text": [
      "[Parallel(n_jobs=1)]: Done   2 out of   2 | elapsed: 26.4min remaining:    0.0s\n"
     ]
    },
    {
     "name": "stdout",
     "output_type": "stream",
     "text": [
      "[CV]  colsample_bytree=0.5, gamma=0.9, learning_rate=0.1, max_depth=6, min_child_weight=50, n_estimators=100, nthread=-1, objective=multi:softprob, seed=0, subsample=0.78, score=0.734989, total=12.7min\n"
     ]
    },
    {
     "name": "stderr",
     "output_type": "stream",
     "text": [
      "[Parallel(n_jobs=1)]: Done   3 out of   3 | elapsed: 39.6min remaining:    0.0s\n",
      "[Parallel(n_jobs=1)]: Done   3 out of   3 | elapsed: 39.6min finished\n"
     ]
    },
    {
     "name": "stdout",
     "output_type": "stream",
     "text": [
      "Best score: 0.710\n",
      "Best parameters set: {'colsample_bytree': 0.5, 'gamma': 0.9, 'learning_rate': 0.1, 'max_depth': 6, 'min_child_weight': 50, 'n_estimators': 100, 'nthread': -1, 'objective': 'multi:softprob', 'seed': 0, 'subsample': 0.78}\n",
      "Scores: [mean: 0.71032, std: 0.01825, params: {'colsample_bytree': 0.5, 'gamma': 0.9, 'learning_rate': 0.1, 'max_depth': 6, 'min_child_weight': 50, 'n_estimators': 100, 'nthread': -1, 'objective': 'multi:softprob', 'seed': 0, 'subsample': 0.78}]\n"
     ]
    },
    {
     "name": "stderr",
     "output_type": "stream",
     "text": [
      "/Users/meierhabarexiti/anaconda/lib/python3.6/site-packages/sklearn/model_selection/_search.py:667: DeprecationWarning: The grid_scores_ attribute was deprecated in version 0.18 in favor of the more elaborate cv_results_ attribute. The grid_scores_ attribute will not be available from 0.20\n",
      "  DeprecationWarning)\n"
     ]
    }
   ],
   "source": [
    "param_grid = {'objective':['multi:softprob'], \n",
    "              'learning_rate':[0.1],          \n",
    "              'n_estimators':[100], # number of boosted tress to be fitted \n",
    "              'max_depth': [6],\n",
    "              'min_child_weight':[50],\n",
    "              'subsample': [0.78],\n",
    "              'colsample_bytree':[0.5],\n",
    "              'gamma':[0.9],# Minimum loss reduction required to make a further partition on a leaf node of the tree,                   \n",
    "              'nthread': [-1],# the larger, the more conservative\n",
    "              'seed' : [0]}\n",
    "\n",
    "model = search_model(X,\n",
    "                     y,\n",
    "                     XGBClassifier(),\n",
    "                     param_grid,\n",
    "                     n_jobs = 1,\n",
    "                     cv = 3,\n",
    "                     refit = True)"
   ]
  },
  {
   "cell_type": "markdown",
   "metadata": {},
   "source": [
    "\n",
    "### Question: \n",
    "* I always have problems with shapes of df or arrays. Any suggestted studying materials or topics on this ? \n",
    "\n",
    "* Does XGBoost requires preprocessing the data sets?\n",
    "\n",
    "* I remember GridSearchCV is looking for the best parameter combination for a model. However, We only assign one set of parameters here (not a range for paramaters). The best parameter it returns is exactly the same as what I 've assigned. \n",
    "\n",
    "i) Is it doing any good for choosing the best paramaters combinations?\n",
    "\n",
    "ii) What is the purpose for doing GridSearch here?"
   ]
  },
  {
   "cell_type": "markdown",
   "metadata": {},
   "source": [
    "### c) Model fitting XGBClassifier"
   ]
  },
  {
   "cell_type": "code",
   "execution_count": 30,
   "metadata": {},
   "outputs": [
    {
     "data": {
      "text/plain": [
       "XGBClassifier(base_score=0.5, colsample_bylevel=1, colsample_bytree=0.5,\n",
       "       gamma=0.9, learning_rate=0.1, max_delta_step=0, max_depth=6,\n",
       "       min_child_weight=50, missing=None, n_estimators=100, nthread=-1,\n",
       "       objective='multi:softprob', reg_alpha=0, reg_lambda=1,\n",
       "       scale_pos_weight=1, seed=0, silent=False, subsample=0.78)"
      ]
     },
     "execution_count": 30,
     "metadata": {},
     "output_type": "execute_result"
    }
   ],
   "source": [
    "# use the best parameter combinations from the previous result to fit XGBC model\n",
    "rgb = XGBClassifier(seed = 0, \n",
    "                       learning_rate = 0.1, # smaller, better results, more time\n",
    "                       n_estimators = 100, # Number of boosted trees to fit.\n",
    "                       max_depth=6, # the maximum depth of a tree\n",
    "                       min_child_weight=50,\n",
    "                       colsample_bytree=0.5, # the fraction of columns to be randomly samples for each tree\n",
    "                       subsample=0.78, # the fraction of observations to be randomly samples for each tree\n",
    "                       gamma=0.9, # Minimum loss reduction required to make a further partition on a leaf node of the tree, \n",
    "                       # the larger, the more conservative \n",
    "                       nthread = -1, # Number of parallel threads used to run xgboost.\n",
    "                       silent = False # Whether to print messages while running boosting.\n",
    "                      )\n",
    "rgb.fit(X, y)"
   ]
  },
  {
   "cell_type": "markdown",
   "metadata": {},
   "source": [
    "### d) Predict on test"
   ]
  },
  {
   "cell_type": "code",
   "execution_count": 33,
   "metadata": {
    "collapsed": true
   },
   "outputs": [],
   "source": [
    "y_pred = rgb.predict_proba(X_test) "
   ]
  },
  {
   "cell_type": "markdown",
   "metadata": {},
   "source": [
    "### e) Taking the 5 classes with highest probabilities"
   ]
  },
  {
   "cell_type": "code",
   "execution_count": 34,
   "metadata": {
    "collapsed": true
   },
   "outputs": [],
   "source": [
    "## create submission result \n",
    "ids = []  #list of ids\n",
    "cts = []  #list of countries\n",
    "for i in range(len(id_test)):\n",
    "    idx = id_test[i]\n",
    "    ids += [idx] * 5\n",
    "    cts += le.inverse_transform(np.argsort(y_pred[i])[::-1])[:5].tolist()"
   ]
  },
  {
   "cell_type": "markdown",
   "metadata": {},
   "source": [
    "### f) Generate submission"
   ]
  },
  {
   "cell_type": "code",
   "execution_count": 35,
   "metadata": {
    "collapsed": true
   },
   "outputs": [],
   "source": [
    "sub = pd.DataFrame(np.column_stack((ids, cts)), columns=['id', 'country'])\n",
    "sub.to_csv('sub.csv',index=False)"
   ]
  },
  {
   "cell_type": "code",
   "execution_count": 38,
   "metadata": {},
   "outputs": [
    {
     "data": {
      "text/html": [
       "<div>\n",
       "<style>\n",
       "    .dataframe thead tr:only-child th {\n",
       "        text-align: right;\n",
       "    }\n",
       "\n",
       "    .dataframe thead th {\n",
       "        text-align: left;\n",
       "    }\n",
       "\n",
       "    .dataframe tbody tr th {\n",
       "        vertical-align: top;\n",
       "    }\n",
       "</style>\n",
       "<table border=\"1\" class=\"dataframe\">\n",
       "  <thead>\n",
       "    <tr style=\"text-align: right;\">\n",
       "      <th></th>\n",
       "      <th>id</th>\n",
       "      <th>country</th>\n",
       "    </tr>\n",
       "  </thead>\n",
       "  <tbody>\n",
       "    <tr>\n",
       "      <th>0</th>\n",
       "      <td>5uwns89zht</td>\n",
       "      <td>NDF</td>\n",
       "    </tr>\n",
       "    <tr>\n",
       "      <th>1</th>\n",
       "      <td>5uwns89zht</td>\n",
       "      <td>US</td>\n",
       "    </tr>\n",
       "    <tr>\n",
       "      <th>2</th>\n",
       "      <td>5uwns89zht</td>\n",
       "      <td>other</td>\n",
       "    </tr>\n",
       "    <tr>\n",
       "      <th>3</th>\n",
       "      <td>5uwns89zht</td>\n",
       "      <td>FR</td>\n",
       "    </tr>\n",
       "    <tr>\n",
       "      <th>4</th>\n",
       "      <td>5uwns89zht</td>\n",
       "      <td>ES</td>\n",
       "    </tr>\n",
       "  </tbody>\n",
       "</table>\n",
       "</div>"
      ],
      "text/plain": [
       "           id country\n",
       "0  5uwns89zht     NDF\n",
       "1  5uwns89zht      US\n",
       "2  5uwns89zht   other\n",
       "3  5uwns89zht      FR\n",
       "4  5uwns89zht      ES"
      ]
     },
     "execution_count": 38,
     "metadata": {},
     "output_type": "execute_result"
    }
   ],
   "source": [
    "sub.head()"
   ]
  },
  {
   "cell_type": "markdown",
   "metadata": {},
   "source": [
    "## Other thoughts"
   ]
  },
  {
   "cell_type": "markdown",
   "metadata": {},
   "source": [
    "### * I didn't have time to check session data, but according to other ppl on kaggle, it gives more inforamtion about some customers (not all). \n",
    "### Therefore, we can also:\n",
    "\n",
    "1) fit a random forest model using all the session data left_join training data on 'id' (combing session data information with the information for the same people in train_data).\n",
    "\n",
    "2) fit another random forest model only on the session data. \n",
    "\n",
    "3) model ensombling the XGBClassifier model with the models in (1) and (2)\n",
    "\n",
    "### * Filling missing values:\n",
    "\n",
    "1) When filling missing values for gender, instead of filling the group with the more counts (female), I think we can also group the country_destination by different genders. Then for each country_destination, we fill gender with the more counts only for that specific country. \n",
    "\n",
    "2) I did not have time to create a corr plot. Maybe we can create some columns for  the interaction for different features combinations. \n",
    "\n",
    "\n"
   ]
  },
  {
   "cell_type": "markdown",
   "metadata": {
    "collapsed": true
   },
   "source": [
    "### Submission yields 0.86522 Score. "
   ]
  },
  {
   "cell_type": "code",
   "execution_count": null,
   "metadata": {
    "collapsed": true
   },
   "outputs": [],
   "source": []
  }
 ],
 "metadata": {
  "kernelspec": {
   "display_name": "Python 3",
   "language": "python",
   "name": "python3"
  },
  "language_info": {
   "codemirror_mode": {
    "name": "ipython",
    "version": 3
   },
   "file_extension": ".py",
   "mimetype": "text/x-python",
   "name": "python",
   "nbconvert_exporter": "python",
   "pygments_lexer": "ipython3",
   "version": "3.6.1"
  },
  "toc": {
   "nav_menu": {},
   "number_sections": true,
   "sideBar": true,
   "skip_h1_title": false,
   "toc_cell": false,
   "toc_position": {},
   "toc_section_display": "block",
   "toc_window_display": false
  }
 },
 "nbformat": 4,
 "nbformat_minor": 1
}
